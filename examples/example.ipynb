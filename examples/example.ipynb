{
 "cells": [
  {
   "cell_type": "markdown",
   "metadata": {},
   "source": [
    "## What types of securities are available?"
   ]
  },
  {
   "cell_type": "code",
   "execution_count": 33,
   "metadata": {},
   "outputs": [
    {
     "data": {
      "text/plain": [
       "[Market(engine='stock', market='shares'),\n",
       " Market(engine='stock', market='bonds'),\n",
       " Market(engine='currency', market='selt')]"
      ]
     },
     "execution_count": 33,
     "metadata": {},
     "output_type": "execute_result"
    }
   ],
   "source": [
    "from finec.moex import MARKETS, Market\n",
    "MARKETS"
   ]
  },
  {
   "cell_type": "code",
   "execution_count": 34,
   "metadata": {},
   "outputs": [],
   "source": [
    "m = Market(engine='stock', market='shares')"
   ]
  },
  {
   "cell_type": "code",
   "execution_count": 35,
   "metadata": {},
   "outputs": [
    {
     "data": {
      "text/plain": [
       "{'SMAL': 'Т+: Неполные лоты (акции) - безадрес.',\n",
       " 'SPEQ': 'Поставка по СК (акции)',\n",
       " 'TQBR': 'Т+: Акции и ДР - безадрес.',\n",
       " 'TQDP': 'Крупные пакеты - Акции - безадрес.',\n",
       " 'TQFD': 'Т+: ПАИ (USD) - безадрес.',\n",
       " 'TQFE': 'Т+: ПАИ (EUR) - безадрес.',\n",
       " 'TQIF': 'Т+: Паи - безадрес.',\n",
       " 'TQPD': 'Т+ Акции ПИР (USD) - безадрес.',\n",
       " 'TQPE': 'Т+: Акции ПИР (EUR) - безадрес.',\n",
       " 'TQPI': 'Т+: Акции ПИР - безадрес.',\n",
       " 'TQTD': 'Т+: ETF (USD) - безадрес.',\n",
       " 'TQTE': 'Т+: ETF (расч. в EUR) - безадрес.',\n",
       " 'TQTF': 'Т+: ETF - безадрес.'}"
      ]
     },
     "execution_count": 35,
     "metadata": {},
     "output_type": "execute_result"
    }
   ],
   "source": [
    "m.traded_boards()"
   ]
  },
  {
   "cell_type": "code",
   "execution_count": 37,
   "metadata": {},
   "outputs": [
    {
     "data": {
      "text/html": [
       "<div>\n",
       "<style scoped>\n",
       "    .dataframe tbody tr th:only-of-type {\n",
       "        vertical-align: middle;\n",
       "    }\n",
       "\n",
       "    .dataframe tbody tr th {\n",
       "        vertical-align: top;\n",
       "    }\n",
       "\n",
       "    .dataframe thead th {\n",
       "        text-align: right;\n",
       "    }\n",
       "</style>\n",
       "<table border=\"1\" class=\"dataframe\">\n",
       "  <thead>\n",
       "    <tr style=\"text-align: right;\">\n",
       "      <th></th>\n",
       "      <th>202</th>\n",
       "    </tr>\n",
       "  </thead>\n",
       "  <tbody>\n",
       "    <tr>\n",
       "      <th>SECID</th>\n",
       "      <td>FEES</td>\n",
       "    </tr>\n",
       "    <tr>\n",
       "      <th>BOARDID</th>\n",
       "      <td>SPEQ</td>\n",
       "    </tr>\n",
       "    <tr>\n",
       "      <th>SHORTNAME</th>\n",
       "      <td>ФСК ЕЭС ао</td>\n",
       "    </tr>\n",
       "    <tr>\n",
       "      <th>PREVPRICE</th>\n",
       "      <td>0.09</td>\n",
       "    </tr>\n",
       "    <tr>\n",
       "      <th>LOTSIZE</th>\n",
       "      <td>1</td>\n",
       "    </tr>\n",
       "    <tr>\n",
       "      <th>FACEVALUE</th>\n",
       "      <td>0.5</td>\n",
       "    </tr>\n",
       "    <tr>\n",
       "      <th>STATUS</th>\n",
       "      <td>A</td>\n",
       "    </tr>\n",
       "    <tr>\n",
       "      <th>BOARDNAME</th>\n",
       "      <td>Поставка по СК (акции)</td>\n",
       "    </tr>\n",
       "    <tr>\n",
       "      <th>DECIMALS</th>\n",
       "      <td>5</td>\n",
       "    </tr>\n",
       "    <tr>\n",
       "      <th>SECNAME</th>\n",
       "      <td>\"ФСК ЕЭС\" ПАО ао</td>\n",
       "    </tr>\n",
       "    <tr>\n",
       "      <th>REMARKS</th>\n",
       "      <td>None</td>\n",
       "    </tr>\n",
       "    <tr>\n",
       "      <th>MARKETCODE</th>\n",
       "      <td>RPST</td>\n",
       "    </tr>\n",
       "    <tr>\n",
       "      <th>INSTRID</th>\n",
       "      <td>EQIN</td>\n",
       "    </tr>\n",
       "    <tr>\n",
       "      <th>SECTORID</th>\n",
       "      <td>None</td>\n",
       "    </tr>\n",
       "    <tr>\n",
       "      <th>MINSTEP</th>\n",
       "      <td>0.00001</td>\n",
       "    </tr>\n",
       "    <tr>\n",
       "      <th>PREVWAPRICE</th>\n",
       "      <td>NaN</td>\n",
       "    </tr>\n",
       "    <tr>\n",
       "      <th>FACEUNIT</th>\n",
       "      <td>SUR</td>\n",
       "    </tr>\n",
       "    <tr>\n",
       "      <th>PREVDATE</th>\n",
       "      <td>2022-05-05</td>\n",
       "    </tr>\n",
       "    <tr>\n",
       "      <th>ISSUESIZE</th>\n",
       "      <td>1274665323063</td>\n",
       "    </tr>\n",
       "    <tr>\n",
       "      <th>ISIN</th>\n",
       "      <td>RU000A0JPNN9</td>\n",
       "    </tr>\n",
       "    <tr>\n",
       "      <th>LATNAME</th>\n",
       "      <td>FSK EES</td>\n",
       "    </tr>\n",
       "    <tr>\n",
       "      <th>REGNUMBER</th>\n",
       "      <td>1-01-65018-D</td>\n",
       "    </tr>\n",
       "    <tr>\n",
       "      <th>PREVLEGALCLOSEPRICE</th>\n",
       "      <td>NaN</td>\n",
       "    </tr>\n",
       "    <tr>\n",
       "      <th>PREVADMITTEDQUOTE</th>\n",
       "      <td>NaN</td>\n",
       "    </tr>\n",
       "    <tr>\n",
       "      <th>CURRENCYID</th>\n",
       "      <td>SUR</td>\n",
       "    </tr>\n",
       "    <tr>\n",
       "      <th>SECTYPE</th>\n",
       "      <td>1</td>\n",
       "    </tr>\n",
       "    <tr>\n",
       "      <th>LISTLEVEL</th>\n",
       "      <td>1</td>\n",
       "    </tr>\n",
       "    <tr>\n",
       "      <th>SETTLEDATE</th>\n",
       "      <td>2022-05-12</td>\n",
       "    </tr>\n",
       "  </tbody>\n",
       "</table>\n",
       "</div>"
      ],
      "text/plain": [
       "                                        202\n",
       "SECID                                  FEES\n",
       "BOARDID                                SPEQ\n",
       "SHORTNAME                        ФСК ЕЭС ао\n",
       "PREVPRICE                              0.09\n",
       "LOTSIZE                                   1\n",
       "FACEVALUE                               0.5\n",
       "STATUS                                    A\n",
       "BOARDNAME            Поставка по СК (акции)\n",
       "DECIMALS                                  5\n",
       "SECNAME                    \"ФСК ЕЭС\" ПАО ао\n",
       "REMARKS                                None\n",
       "MARKETCODE                             RPST\n",
       "INSTRID                                EQIN\n",
       "SECTORID                               None\n",
       "MINSTEP                             0.00001\n",
       "PREVWAPRICE                             NaN\n",
       "FACEUNIT                                SUR\n",
       "PREVDATE                         2022-05-05\n",
       "ISSUESIZE                     1274665323063\n",
       "ISIN                           RU000A0JPNN9\n",
       "LATNAME                             FSK EES\n",
       "REGNUMBER                      1-01-65018-D\n",
       "PREVLEGALCLOSEPRICE                     NaN\n",
       "PREVADMITTEDQUOTE                       NaN\n",
       "CURRENCYID                              SUR\n",
       "SECTYPE                                   1\n",
       "LISTLEVEL                                 1\n",
       "SETTLEDATE                       2022-05-12"
      ]
     },
     "execution_count": 37,
     "metadata": {},
     "output_type": "execute_result"
    }
   ],
   "source": [
    "m.securities().sample(1).T"
   ]
  },
  {
   "cell_type": "code",
   "execution_count": 39,
   "metadata": {},
   "outputs": [
    {
     "ename": "AttributeError",
     "evalue": "'Market' object has no attribute 'tickers'",
     "output_type": "error",
     "traceback": [
      "\u001b[1;31m---------------------------------------------------------------------------\u001b[0m",
      "\u001b[1;31mAttributeError\u001b[0m                            Traceback (most recent call last)",
      "\u001b[1;32mC:\\Temp\\ipykernel_8472\\2085174338.py\u001b[0m in \u001b[0;36m<cell line: 1>\u001b[1;34m()\u001b[0m\n\u001b[1;32m----> 1\u001b[1;33m \u001b[0mm\u001b[0m\u001b[1;33m.\u001b[0m\u001b[0mtickers\u001b[0m\u001b[1;33m(\u001b[0m\u001b[1;33m)\u001b[0m\u001b[1;33m\u001b[0m\u001b[1;33m\u001b[0m\u001b[0m\n\u001b[0m",
      "\u001b[1;31mAttributeError\u001b[0m: 'Market' object has no attribute 'tickers'"
     ]
    }
   ],
   "source": [
    "m.tickers()"
   ]
  },
  {
   "cell_type": "code",
   "execution_count": 29,
   "metadata": {},
   "outputs": [
    {
     "data": {
      "text/plain": [
       "518"
      ]
     },
     "execution_count": 29,
     "metadata": {},
     "output_type": "execute_result"
    }
   ],
   "source": [
    "len()"
   ]
  },
  {
   "cell_type": "code",
   "execution_count": 9,
   "metadata": {},
   "outputs": [
    {
     "data": {
      "text/plain": [
       "{'SECID': 'RU000A0JPLG7',\n",
       " 'NAME': 'ЗПИФ \"РВМ-Подмосковный\"',\n",
       " 'SHORTNAME': 'ПИФ РВМ',\n",
       " 'REGNUMBER': '1028-94135580',\n",
       " 'ISIN': 'RU000A0JPLG7',\n",
       " 'LATNAME': 'PIF RVM-Podmoskovnii',\n",
       " 'ISSUEDATE': '2008-02-05',\n",
       " 'LISTLEVEL': '2',\n",
       " 'ISQUALIFIEDINVESTORS': '0',\n",
       " 'TYPENAME': 'Пай закрытого ПИФа',\n",
       " 'GROUP': 'stock_ppif',\n",
       " 'TYPE': 'private_ppif',\n",
       " 'GROUPNAME': 'Паи ПИФов',\n",
       " 'EMITTER_ID': '2092'}"
      ]
     },
     "execution_count": 9,
     "metadata": {},
     "output_type": "execute_result"
    }
   ],
   "source": [
    "whoami(\"RU000A0JPLG7\")"
   ]
  }
 ],
 "metadata": {
  "interpreter": {
   "hash": "db2c9198a20465976465a1490a6728e9deea579f00201267cddc9e8adffebb6f"
  },
  "kernelspec": {
   "display_name": "Python 3.8.5 64-bit ('.venv': poetry)",
   "language": "python",
   "name": "python3"
  },
  "language_info": {
   "codemirror_mode": {
    "name": "ipython",
    "version": 3
   },
   "file_extension": ".py",
   "mimetype": "text/x-python",
   "name": "python",
   "nbconvert_exporter": "python",
   "pygments_lexer": "ipython3",
   "version": "3.8.5"
  },
  "orig_nbformat": 4
 },
 "nbformat": 4,
 "nbformat_minor": 2
}
